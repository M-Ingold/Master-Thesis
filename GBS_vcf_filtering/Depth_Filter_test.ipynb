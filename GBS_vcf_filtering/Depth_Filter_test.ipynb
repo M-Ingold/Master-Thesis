{
 "cells": [
  {
   "cell_type": "code",
   "execution_count": 2,
   "id": "3f65f500-6588-4a28-ab3f-163a7e2ec83f",
   "metadata": {},
   "outputs": [],
   "source": [
    "import pathlib\n",
    "import vcf\n",
    "import pandas as pd\n",
    "import numpy as np\n",
    "from collections import defaultdict"
   ]
  },
  {
   "cell_type": "code",
   "execution_count": 3,
   "id": "40102f4d-a7f7-4928-9be5-ca13309bf9b7",
   "metadata": {},
   "outputs": [],
   "source": [
    "vcfFile = vcf.Reader(filename=\"/media/markus/HDD/GBS_Analysis/data/VCF/freebayes_264_samples_chr01-12_QUAL_30_depth_0.9_blanked_1_read_het_biallelic_SNPs.vcf\")"
   ]
  },
  {
   "cell_type": "code",
   "execution_count": 3,
   "id": "9db3c4d1-b065-46d0-9ce1-28019de485ba",
   "metadata": {},
   "outputs": [],
   "source": [
    "#for sample in vcfFile.samples:\n",
    "#    print(sample)"
   ]
  },
  {
   "cell_type": "code",
   "execution_count": 4,
   "id": "0c68c417-1a0f-4552-a9d9-69adf15d3073",
   "metadata": {},
   "outputs": [
    {
     "ename": "AttributeError",
     "evalue": "'str' object has no attribute 'called'",
     "output_type": "error",
     "traceback": [
      "\u001b[0;31m---------------------------------------------------------------------------\u001b[0m",
      "\u001b[0;31mAttributeError\u001b[0m                            Traceback (most recent call last)",
      "\u001b[0;32m/tmp/ipykernel_10377/963532248.py\u001b[0m in \u001b[0;36m<module>\u001b[0;34m\u001b[0m\n\u001b[1;32m      3\u001b[0m \u001b[0;31m# Checking for the desired qualities in each sample at each site\u001b[0m\u001b[0;34m\u001b[0m\u001b[0;34m\u001b[0m\u001b[0;34m\u001b[0m\u001b[0m\n\u001b[1;32m      4\u001b[0m \u001b[0;32mfor\u001b[0m \u001b[0msample\u001b[0m \u001b[0;32min\u001b[0m \u001b[0mvcfFile\u001b[0m\u001b[0;34m.\u001b[0m\u001b[0msamples\u001b[0m\u001b[0;34m:\u001b[0m\u001b[0;34m\u001b[0m\u001b[0;34m\u001b[0m\u001b[0m\n\u001b[0;32m----> 5\u001b[0;31m     \u001b[0;32mif\u001b[0m \u001b[0msample\u001b[0m\u001b[0;34m.\u001b[0m\u001b[0mcalled\u001b[0m\u001b[0;34m:\u001b[0m\u001b[0;34m\u001b[0m\u001b[0;34m\u001b[0m\u001b[0m\n\u001b[0m\u001b[1;32m      6\u001b[0m         \u001b[0;31m# Check for existence of '0' and '1' alleles\u001b[0m\u001b[0;34m\u001b[0m\u001b[0;34m\u001b[0m\u001b[0;34m\u001b[0m\u001b[0m\n\u001b[1;32m      7\u001b[0m         \u001b[0;32mif\u001b[0m \u001b[0;34m'0'\u001b[0m \u001b[0;32min\u001b[0m \u001b[0msample\u001b[0m\u001b[0;34m[\u001b[0m\u001b[0;34m'GT'\u001b[0m\u001b[0;34m]\u001b[0m\u001b[0;34m.\u001b[0m\u001b[0msplit\u001b[0m\u001b[0;34m(\u001b[0m\u001b[0;34m'/'\u001b[0m\u001b[0;34m)\u001b[0m\u001b[0;34m:\u001b[0m\u001b[0;34m\u001b[0m\u001b[0;34m\u001b[0m\u001b[0m\n",
      "\u001b[0;31mAttributeError\u001b[0m: 'str' object has no attribute 'called'"
     ]
    }
   ],
   "source": [
    "REF=0\n",
    "ALT=0\n",
    "# Checking for the desired qualities in each sample at each site\n",
    "for sample in vcfFile.samples:\n",
    "    if sample.called:\n",
    "        # Check for existence of '0' and '1' alleles\n",
    "        if '0' in sample['GT'].split('/'):\n",
    "            REF+=1\n",
    "        if '1' in sample['GT'].split('/'):\n",
    "            ALT+=1\n",
    "    #print(sample['GT'], REF, ALT)\n",
    "print(REF, ALT)"
   ]
  },
  {
   "cell_type": "code",
   "execution_count": 4,
   "id": "c5c3f30b-7b63-498a-8df8-7c8ba9a54b20",
   "metadata": {},
   "outputs": [
    {
     "ename": "SyntaxError",
     "evalue": "invalid syntax (1450123576.py, line 7)",
     "output_type": "error",
     "traceback": [
      "\u001b[0;36m  File \u001b[0;32m\"/tmp/ipykernel_8992/1450123576.py\"\u001b[0;36m, line \u001b[0;32m7\u001b[0m\n\u001b[0;31m    sample['GT'] = \".\" TypeError: '_Call' object does not support item assignment\u001b[0m\n\u001b[0m                       ^\u001b[0m\n\u001b[0;31mSyntaxError\u001b[0m\u001b[0;31m:\u001b[0m invalid syntax\n"
     ]
    }
   ],
   "source": [
    "for rec in vcfFile:\n",
    "    # Checking for the desired qualities in each sample at each site\n",
    "    for sample in rec.samples:\n",
    "        if sample.called:\n",
    "            if sample['DP'] < 61:\n",
    "                sample.called = False\n",
    "                #sample['GT'] = \".\" TypeError: '_Call' object does not support item assignment\n",
    "                print(rec, sample, sample.called)\n",
    "            elif '1' in sample['GT'].split('/') and sample['AO']/sample['DP'] < 0.25:\n",
    "                    sample.called = False\n",
    "                    #print(rec.call_rate)\n",
    "                    \n",
    "        #if rec.call_rate >= 0.90:\n",
    "        #    print(rec.call_rate)"
   ]
  },
  {
   "cell_type": "code",
   "execution_count": null,
   "id": "a5d555be-accc-4549-b74e-ffdcaf96b119",
   "metadata": {},
   "outputs": [],
   "source": [
    "rec[0].call_rate"
   ]
  },
  {
   "cell_type": "code",
   "execution_count": null,
   "id": "19b2869f-2599-4463-acbb-3ab9b8f1ce6e",
   "metadata": {},
   "outputs": [],
   "source": [
    "type(rec)"
   ]
  }
 ],
 "metadata": {
  "kernelspec": {
   "display_name": "Python 3 (ipykernel)",
   "language": "python",
   "name": "python3"
  },
  "language_info": {
   "codemirror_mode": {
    "name": "ipython",
    "version": 3
   },
   "file_extension": ".py",
   "mimetype": "text/x-python",
   "name": "python",
   "nbconvert_exporter": "python",
   "pygments_lexer": "ipython3",
   "version": "3.8.10"
  }
 },
 "nbformat": 4,
 "nbformat_minor": 5
}
